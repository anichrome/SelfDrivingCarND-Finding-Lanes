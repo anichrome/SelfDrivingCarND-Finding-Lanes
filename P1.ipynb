{
 "cells": [
  {
   "cell_type": "markdown",
   "metadata": {},
   "source": [
    "# Self-Driving Car Engineer Nanodegree\n",
    "\n",
    "\n",
    "## Project: **Finding Lane Lines on the Road** \n",
    "***\n",
    "In this project, you will use the tools you learned about in the lesson to identify lane lines on the road.  You can develop your pipeline on a series of individual images, and later apply the result to a video stream (really just a series of images). Check out the video clip \"raw-lines-example.mp4\" (also contained in this repository) to see what the output should look like after using the helper functions below. \n",
    "\n",
    "Once you have a result that looks roughly like \"raw-lines-example.mp4\", you'll need to get creative and try to average and/or extrapolate the line segments you've detected to map out the full extent of the lane lines.  You can see an example of the result you're going for in the video \"P1_example.mp4\".  Ultimately, you would like to draw just one line for the left side of the lane, and one for the right.\n",
    "\n",
    "In addition to implementing code, there is a brief writeup to complete. The writeup should be completed in a separate file, which can be either a markdown file or a pdf document. There is a [write up template](https://github.com/udacity/CarND-LaneLines-P1/blob/master/writeup_template.md) that can be used to guide the writing process. Completing both the code in the Ipython notebook and the writeup template will cover all of the [rubric points](https://review.udacity.com/#!/rubrics/322/view) for this project.\n",
    "\n",
    "---\n",
    "Let's have a look at our first image called 'test_images/solidWhiteRight.jpg'.  Run the 2 cells below (hit Shift-Enter or the \"play\" button above) to display the image.\n",
    "\n",
    "**Note: If, at any point, you encounter frozen display windows or other confounding issues, you can always start again with a clean slate by going to the \"Kernel\" menu above and selecting \"Restart & Clear Output\".**\n",
    "\n",
    "---"
   ]
  },
  {
   "cell_type": "markdown",
   "metadata": {},
   "source": [
    "**The tools you have are color selection, region of interest selection, grayscaling, Gaussian smoothing, Canny Edge Detection and Hough Tranform line detection.  You  are also free to explore and try other techniques that were not presented in the lesson.  Your goal is piece together a pipeline to detect the line segments in the image, then average/extrapolate them and draw them onto the image for display (as below).  Once you have a working pipeline, try it out on the video stream below.**\n",
    "\n",
    "---\n",
    "\n",
    "<figure>\n",
    " <img src=\"examples/line-segments-example.jpg\" width=\"380\" alt=\"Combined Image\" />\n",
    " <figcaption>\n",
    " <p></p> \n",
    " <p style=\"text-align: center;\"> Your output should look something like this (above) after detecting line segments using the helper functions below </p> \n",
    " </figcaption>\n",
    "</figure>\n",
    " <p></p> \n",
    "<figure>\n",
    " <img src=\"examples/laneLines_thirdPass.jpg\" width=\"380\" alt=\"Combined Image\" />\n",
    " <figcaption>\n",
    " <p></p> \n",
    " <p style=\"text-align: center;\"> Your goal is to connect/average/extrapolate line segments to get output like this</p> \n",
    " </figcaption>\n",
    "</figure>"
   ]
  },
  {
   "cell_type": "markdown",
   "metadata": {},
   "source": [
    "**Run the cell below to import some packages.  If you get an `import error` for a package you've already installed, try changing your kernel (select the Kernel menu above --> Change Kernel).  Still have problems?  Try relaunching Jupyter Notebook from the terminal prompt.  Also, consult the forums for more troubleshooting tips.**  "
   ]
  },
  {
   "cell_type": "markdown",
   "metadata": {},
   "source": [
    "## Import Packages"
   ]
  },
  {
   "cell_type": "code",
   "execution_count": 1,
   "metadata": {},
   "outputs": [],
   "source": [
    "#importing some useful packages\n",
    "import matplotlib.pyplot as plt\n",
    "import matplotlib.image as mpimg\n",
    "import numpy as np\n",
    "import cv2\n",
    "%matplotlib inline"
   ]
  },
  {
   "cell_type": "markdown",
   "metadata": {},
   "source": [
    "## Read in an Image"
   ]
  },
  {
   "cell_type": "markdown",
   "metadata": {},
   "source": [
    "## Ideas for Lane Detection Pipeline"
   ]
  },
  {
   "cell_type": "markdown",
   "metadata": {},
   "source": [
    "**Some OpenCV functions (beyond those introduced in the lesson) that might be useful for this project are:**\n",
    "\n",
    "`cv2.inRange()` for color selection  \n",
    "`cv2.fillPoly()` for regions selection  \n",
    "`cv2.line()` to draw lines on an image given endpoints  \n",
    "`cv2.addWeighted()` to coadd / overlay two images  \n",
    "`cv2.cvtColor()` to grayscale or change color  \n",
    "`cv2.imwrite()` to output images to file  \n",
    "`cv2.bitwise_and()` to apply a mask to an image\n",
    "\n",
    "**Check out the OpenCV documentation to learn about these and discover even more awesome functionality!**"
   ]
  },
  {
   "cell_type": "markdown",
   "metadata": {},
   "source": [
    "## Helper Functions"
   ]
  },
  {
   "cell_type": "markdown",
   "metadata": {},
   "source": [
    "Below are some helper functions to help get you started. They should look familiar from the lesson!"
   ]
  },
  {
   "cell_type": "code",
   "execution_count": 2,
   "metadata": {},
   "outputs": [],
   "source": [
    "import math\n",
    "\n",
    "def grayscale(img):\n",
    "    \"\"\"Applies the Grayscale transform\n",
    "    This will return an image with only one color channel\n",
    "    but NOTE: to see the returned image as grayscale\n",
    "    (assuming your grayscaled image is called 'gray')\n",
    "    you should call plt.imshow(gray, cmap='gray')\"\"\"\n",
    "    return cv2.cvtColor(img, cv2.COLOR_RGB2GRAY)\n",
    "    # Or use BGR2GRAY if you read an image with cv2.imread()\n",
    "    # return cv2.cvtColor(img, cv2.COLOR_BGR2GRAY)\n",
    "    \n",
    "def canny(img, low_threshold, high_threshold):\n",
    "    \"\"\"Applies the Canny transform\"\"\"\n",
    "    return cv2.Canny(img, low_threshold, high_threshold)\n",
    "\n",
    "def gaussian_blur(img, kernel_size):\n",
    "    \"\"\"Applies a Gaussian Noise kernel\"\"\"\n",
    "    return cv2.GaussianBlur(img, (kernel_size, kernel_size), 0)\n",
    "\n",
    "def region_of_interest(img, vertices):\n",
    "    \"\"\"\n",
    "    Applies an image mask.\n",
    "    \n",
    "    Only keeps the region of the image defined by the polygon\n",
    "    formed from `vertices`. The rest of the image is set to black.\n",
    "    `vertices` should be a numpy array of integer points.\n",
    "    \"\"\"\n",
    "    #defining a blank mask to start with\n",
    "    mask = np.zeros_like(img)   \n",
    "    \n",
    "    #defining a 3 channel or 1 channel color to fill the mask with depending on the input image\n",
    "    if len(img.shape) > 2:\n",
    "        channel_count = img.shape[2]  # i.e. 3 or 4 depending on your image\n",
    "        ignore_mask_color = (255,) * channel_count\n",
    "    else:\n",
    "        ignore_mask_color = 255\n",
    "        \n",
    "    #filling pixels inside the polygon defined by \"vertices\" with the fill color    \n",
    "    cv2.fillPoly(mask, vertices, ignore_mask_color)\n",
    "    \n",
    "    #returning the image only where mask pixels are nonzero\n",
    "    masked_image = cv2.bitwise_and(img, mask)\n",
    "    return masked_image\n",
    "\n",
    "\n",
    "def draw_lines(img, lines, color=[255, 0, 0], thickness=10):\n",
    "    \"\"\"\n",
    "    NOTE: this is the function you might want to use as a starting point once you want to \n",
    "    average/extrapolate the line segments you detect to map out the full\n",
    "    extent of the lane (going from the result shown in raw-lines-example.mp4\n",
    "    to that shown in P1_example.mp4).  \n",
    "    \n",
    "    Think about things like separating line segments by their \n",
    "    slope ((y2-y1)/(x2-x1)) to decide which segments are part of the left\n",
    "    line vs. the right line.  Then, you can average the position of each of \n",
    "    the lines and extrapolate to the top and bottom of the lane.\n",
    "    \n",
    "    This function draws `lines` with `color` and `thickness`.    \n",
    "    Lines are drawn on the image inplace (mutates the image).\n",
    "    If you want to make the lines semi-transparent, think about combining\n",
    "    this function with the weighted_img() function below\n",
    "    \"\"\"\n",
    "    linesLeft = []\n",
    "    linesRight = []\n",
    "    \n",
    "    slopeLeft = []\n",
    "    slopeRight = []\n",
    "    \n",
    "    interceptLeft = []\n",
    "    interceptRight = []\n",
    "    \n",
    "    imageShapeX = img.shape[1]\n",
    "    xMidPoint = imageShapeX / 2\n",
    "    \n",
    "    yMax = img.shape[0]\n",
    "    yMin = 330\n",
    "    \n",
    "    if lines is None:\n",
    "        return \n",
    "    \n",
    "    for line in lines:\n",
    "        for x1,y1,x2,y2 in line:\n",
    "            \n",
    "            if x1 == x2:\n",
    "                return\n",
    "            \n",
    "            m = float(y2-y1) / float(x2-x1)\n",
    "            b = float(y1) - float(x1*m)\n",
    "            if x1 < xMidPoint and x2 < xMidPoint:\n",
    "                linesLeft.append(line)\n",
    "                slopeLeft.append(m)\n",
    "                interceptLeft.append(b)\n",
    "                \n",
    "            elif x1 > xMidPoint and x2 > xMidPoint:\n",
    "                linesRight.append(line)\n",
    "                slopeRight.append(m)\n",
    "                interceptRight.append(b)\n",
    "                \n",
    "            else:\n",
    "                linesLeft.append(line)\n",
    "                slopeLeft.append(m)\n",
    "                interceptLeft.append(b)\n",
    "    \n",
    "    meanSlopeLeft = float(sum(slopeLeft)) / max(len(slopeLeft), 1)\n",
    "    meanSlopeRight = float(sum(slopeRight)) / max(len(slopeRight), 1)\n",
    "    \n",
    "    meanInterceptLeft = float(sum(interceptLeft)) / max(len(interceptLeft), 1)\n",
    "    meanInterceptRight = float(sum(interceptRight)) / max(len(interceptRight), 1)\n",
    "    \n",
    "    if meanSlopeLeft!=0 and meanSlopeRight!=0:\n",
    "        x1Left = (yMax - meanInterceptLeft)/meanSlopeLeft\n",
    "        y1Left = yMax\n",
    "        x2Left = (yMin - meanInterceptLeft)/meanSlopeLeft\n",
    "        y2Left = yMin\n",
    "\n",
    "        x1Right = (yMax - meanInterceptRight)/meanSlopeRight\n",
    "        y1Right = yMax\n",
    "        x2Right = (yMin - meanInterceptRight)/meanSlopeRight\n",
    "        y2Right = yMin\n",
    "    \n",
    "        cv2.line(img, (int(x1Left), int(y1Left)), (int(x2Left), int(y2Left)), color, thickness)\n",
    "        cv2.line(img, (int(x1Right), int(y1Right)), (int(x2Right), int(y2Right)), color, thickness) \n",
    "        return img    \n",
    "\n",
    "def hough_lines(img, rho, theta, threshold, min_line_len, max_line_gap):\n",
    "    \"\"\"\n",
    "    `img` should be the output of a Canny transform.\n",
    "        \n",
    "    Returns an image with hough lines drawn.\n",
    "    \"\"\"\n",
    "    lines = cv2.HoughLinesP(img, rho, theta, threshold, np.array([]), minLineLength=min_line_len, maxLineGap=max_line_gap)\n",
    "    line_img = np.zeros((img.shape[0], img.shape[1], 3), dtype=np.uint8)\n",
    "    originalImageWithLines = draw_lines(line_img, lines)\n",
    "    return originalImageWithLines\n",
    "\n",
    "# Python 3 has support for cool math symbols.\n",
    "\n",
    "def weighted_img(img, initial_img, alpha=0.8, beta=1., gamma=0.):\n",
    "    \n",
    "    \"\"\"\n",
    "    `img` is the output of the hough_lines(), An image with lines drawn on it.\n",
    "    Should be a blank image (all black) with lines drawn on it.\n",
    "    \n",
    "    `initial_img` should be the image before any processing.\n",
    "    \n",
    "    The result image is computed as follows:\n",
    "    \n",
    "    initial_img * α + img * β + γ\n",
    "    NOTE: initial_img and img must be the same shape!\n",
    "    \"\"\"\n",
    "    return cv2.addWeighted(initial_img, alpha, img, beta, gamma)"
   ]
  },
  {
   "cell_type": "markdown",
   "metadata": {},
   "source": [
    "## Test Images\n",
    "\n",
    "Build your pipeline to work on the images in the directory \"test_images\"  \n",
    "**You should make sure your pipeline works well on these images before you try the videos.**"
   ]
  },
  {
   "cell_type": "markdown",
   "metadata": {},
   "source": [
    "## Build a Lane Finding Pipeline\n",
    "\n"
   ]
  },
  {
   "cell_type": "markdown",
   "metadata": {},
   "source": [
    "Build the pipeline and run your solution on all test_images. Make copies into the `test_images_output` directory, and you can use the images in your writeup report.\n",
    "\n",
    "Try tuning the various parameters, especially the low and high Canny thresholds as well as the Hough lines parameters."
   ]
  },
  {
   "cell_type": "code",
   "execution_count": 8,
   "metadata": {},
   "outputs": [],
   "source": [
    "\n",
    "# TODO: Build your pipeline that will draw lane lines on the test_images\n",
    "# then save them to the test_images_output directory.\n",
    "def laneDetectionPipeline(image):\n",
    "    \n",
    "    grayImage = grayscale(image)\n",
    "    plt.imshow(grayImage, cmap = plt.cm.gray)\n",
    "    \n",
    "    kernel_size = 5\n",
    "    blurredImage = gaussian_blur(grayImage, kernel_size)\n",
    "    plt.imshow(blurredImage, cmap = plt.cm.gray)\n",
    "    \n",
    "    low_threshold = 50\n",
    "    high_threshold = 150\n",
    "    edgeImage = canny(blurredImage, low_threshold, high_threshold)\n",
    "    plt.imshow(edgeImage, cmap = plt.cm.gray)\n",
    "    plt.title('Edge Image')\n",
    "    cv2.imwrite('test_images_output/edge.jpg', edgeImage)\n",
    "    \n",
    "    imshape = image.shape\n",
    "    vertices = np.array([[(0,imshape[0]),(500, 270), (imshape[1], imshape[0]), (imshape[1],imshape[0])]], dtype=np.int32)\n",
    "    maskedImage = region_of_interest(edgeImage, vertices)\n",
    "    plt.imshow(maskedImage, cmap = plt.cm.gray)\n",
    "    \n",
    "    plt.title('Masked Image')\n",
    "    cv2.imwrite('test_images_output/masked.jpg', maskedImage)\n",
    "    \n",
    "    rho = 1\n",
    "    theta = np.pi/180.0\n",
    "    threshold = 5\n",
    "    min_line_len = 35\n",
    "    max_line_gap = 2\n",
    "    finalImage = image\n",
    "\n",
    "    \n",
    "    lineImage = hough_lines(maskedImage, rho, theta, threshold, min_line_len, max_line_gap)\n",
    "    \n",
    "    lastValidLineImage = image\n",
    "    if lineImage is not None:\n",
    "        lastValidLineImage = lineImage\n",
    "    \n",
    "    plt.title('Line Image')\n",
    "    cv2.imwrite('test_images_output/line.jpg', lineImage)\n",
    "    \n",
    "    color_edges = np.dstack((edgeImage, edgeImage, edgeImage)) \n",
    "    #plt.imshow(lineImage)\n",
    "    # Draw the lines on the edge image\n",
    "    if lineImage is None:\n",
    "        print \"nonetype found\"       \n",
    "        finalImage = weighted_img(lastValidLineImage, image)\n",
    "                   \n",
    "    else:\n",
    "        finalImage = weighted_img(lineImage, image)\n",
    "    \n",
    "    plt.imshow(finalImage)\n",
    "    return finalImage"
   ]
  },
  {
   "cell_type": "code",
   "execution_count": 9,
   "metadata": {},
   "outputs": [
    {
     "name": "stdout",
     "output_type": "stream",
     "text": [
      "test_images_output/solidYellowLeft.jpg\n",
      "test_images_output/solidWhiteCurve.jpg\n",
      "test_images_output/solidWhiteRight.jpg\n",
      "test_images_output/solidYellowCurve.jpg\n",
      "test_images_output/whiteCarLaneSwitch.jpg\n",
      "test_images_output/solidYellowCurve2.jpg\n"
     ]
    },
    {
     "data": {
      "image/png": "[encoded data removed]",
      "text/plain": [
       "<matplotlib.figure.Figure at 0x7f9c7c352e10>"
      ]
     },
     "metadata": {},
     "output_type": "display_data"
    }
   ],
   "source": [
    "import os\n",
    "listOfImages = os.listdir(\"test_images/\")\n",
    "\n",
    "for image in listOfImages:\n",
    "    #reading in an image\n",
    "    inputImage = mpimg.imread('test_images/' + image)\n",
    "    plt.imshow(inputImage)  # if you wanted to show a single color channel image called 'gray', for example, call as plt.imshow(gray, cmap='gray')\n",
    "    \n",
    "    imageWithLanesDrawn = laneDetectionPipeline(inputImage)\n",
    "    \n",
    "    path = 'test_images_output/' + image \n",
    "    print path\n",
    "    plt.imshow(imageWithLanesDrawn)\n",
    "    plt.title('Lane lines drawn on the original image')\n",
    "    cv2.imwrite(path, imageWithLanesDrawn)"
   ]
  },
  {
   "cell_type": "markdown",
   "metadata": {},
   "source": [
    "## Test on Videos\n",
    "\n",
    "You know what's cooler than drawing lanes over images? Drawing lanes over video!\n",
    "\n",
    "We can test our solution on two provided videos:\n",
    "\n",
    "`solidWhiteRight.mp4`\n",
    "\n",
    "`solidYellowLeft.mp4`\n",
    "\n",
    "**Note: if you get an import error when you run the next cell, try changing your kernel (select the Kernel menu above --> Change Kernel). Still have problems? Try relaunching Jupyter Notebook from the terminal prompt. Also, consult the forums for more troubleshooting tips.**\n",
    "\n",
    "**If you get an error that looks like this:**\n",
    "```\n",
    "NeedDownloadError: Need ffmpeg exe. \n",
    "You can download it by calling: \n",
    "imageio.plugins.ffmpeg.download()\n",
    "```\n",
    "**Follow the instructions in the error message and check out [this forum post](https://discussions.udacity.com/t/project-error-of-test-on-videos/274082) for more troubleshooting tips across operating systems.**"
   ]
  },
  {
   "cell_type": "code",
   "execution_count": 10,
   "metadata": {},
   "outputs": [],
   "source": [
    "# Import everything needed to edit/save/watch video clips\n",
    "from moviepy.editor import VideoFileClip\n",
    "from IPython.display import HTML"
   ]
  },
  {
   "cell_type": "code",
   "execution_count": 11,
   "metadata": {},
   "outputs": [],
   "source": [
    "def process_image(image):\n",
    "    # NOTE: The output you return should be a color image (3 channel) for processing video below\n",
    "    # TODO: put your pipeline here,\n",
    "    # you should return the final output (image where lines are drawn on lanes)\n",
    "    result = laneDetectionPipeline(image)\n",
    "    \n",
    "    return result"
   ]
  },
  {
   "cell_type": "markdown",
   "metadata": {},
   "source": [
    "Let's try the one with the solid white lane on the right first ..."
   ]
  },
  {
   "cell_type": "code",
   "execution_count": 12,
   "metadata": {},
   "outputs": [
    {
     "name": "stderr",
     "output_type": "stream",
     "text": [
      "\n",
      "t:   0%|          | 0/221 [00:00<?, ?it/s, now=None]\u001b[A\n",
      "t:   1%|▏         | 3/221 [00:00<00:08, 26.53it/s, now=None]\u001b[A"
     ]
    },
    {
     "name": "stdout",
     "output_type": "stream",
     "text": [
      "Moviepy - Building video test_videos_output/solidWhiteRight.mp4.\n",
      "Moviepy - Writing video test_videos_output/solidWhiteRight.mp4\n",
      "\n"
     ]
    },
    {
     "name": "stderr",
     "output_type": "stream",
     "text": [
      "\n",
      "t:   2%|▏         | 5/221 [00:00<00:09, 23.00it/s, now=None]\u001b[A\n",
      "t:   3%|▎         | 7/221 [00:00<00:09, 21.45it/s, now=None]\u001b[A\n",
      "t:   4%|▍         | 9/221 [00:00<00:10, 20.35it/s, now=None]\u001b[A"
     ]
    },
    {
     "name": "stdout",
     "output_type": "stream",
     "text": [
      "nonetype found\n",
      "nonetype found\n",
      "nonetype found\n"
     ]
    },
    {
     "name": "stderr",
     "output_type": "stream",
     "text": [
      "\n",
      "t:   5%|▍         | 11/221 [00:00<00:10, 19.56it/s, now=None]\u001b[A\n",
      "t:   6%|▌         | 13/221 [00:00<00:11, 18.58it/s, now=None]\u001b[A\n",
      "t:   7%|▋         | 15/221 [00:00<00:11, 18.06it/s, now=None]\u001b[A\n",
      "t:   8%|▊         | 17/221 [00:00<00:11, 17.83it/s, now=None]\u001b[A\n",
      "t:   9%|▊         | 19/221 [00:01<00:11, 18.08it/s, now=None]\u001b[A\n",
      "t:  10%|▉         | 21/221 [00:01<00:10, 18.25it/s, now=None]\u001b[A"
     ]
    },
    {
     "name": "stdout",
     "output_type": "stream",
     "text": [
      "nonetype found\n",
      "nonetype found\n",
      "nonetype found\n"
     ]
    },
    {
     "name": "stderr",
     "output_type": "stream",
     "text": [
      "\n",
      "t:  10%|█         | 23/221 [00:01<00:11, 17.93it/s, now=None]\u001b[A\n",
      "t:  11%|█▏        | 25/221 [00:01<00:10, 17.86it/s, now=None]\u001b[A\n",
      "t:  12%|█▏        | 27/221 [00:01<00:10, 17.69it/s, now=None]\u001b[A\n",
      "t:  13%|█▎        | 29/221 [00:01<00:11, 17.42it/s, now=None]\u001b[A\n",
      "t:  14%|█▍        | 31/221 [00:01<00:10, 17.62it/s, now=None]\u001b[A\n",
      "t:  15%|█▍        | 33/221 [00:01<00:10, 17.65it/s, now=None]\u001b[A"
     ]
    },
    {
     "name": "stdout",
     "output_type": "stream",
     "text": [
      "nonetype found\n"
     ]
    },
    {
     "name": "stderr",
     "output_type": "stream",
     "text": [
      "\n",
      "t:  16%|█▌        | 35/221 [00:01<00:10, 17.83it/s, now=None]\u001b[A\n",
      "t:  17%|█▋        | 37/221 [00:02<00:10, 17.93it/s, now=None]\u001b[A"
     ]
    },
    {
     "name": "stdout",
     "output_type": "stream",
     "text": [
      "nonetype found\n"
     ]
    },
    {
     "name": "stderr",
     "output_type": "stream",
     "text": [
      "\n",
      "t:  18%|█▊        | 39/221 [00:02<00:10, 17.65it/s, now=None]\u001b[A\n",
      "t:  19%|█▊        | 41/221 [00:02<00:10, 17.06it/s, now=None]\u001b[A\n",
      "t:  19%|█▉        | 43/221 [00:02<00:10, 17.31it/s, now=None]\u001b[A\n",
      "t:  20%|██        | 45/221 [00:02<00:10, 17.51it/s, now=None]\u001b[A"
     ]
    },
    {
     "name": "stdout",
     "output_type": "stream",
     "text": [
      "nonetype found\n",
      "nonetype found\n",
      "nonetype found\n"
     ]
    },
    {
     "name": "stderr",
     "output_type": "stream",
     "text": [
      "\n",
      "t:  21%|██▏       | 47/221 [00:02<00:09, 17.41it/s, now=None]\u001b[A\n",
      "t:  22%|██▏       | 49/221 [00:02<00:09, 17.52it/s, now=None]\u001b[A\n",
      "t:  23%|██▎       | 51/221 [00:02<00:09, 17.18it/s, now=None]\u001b[A\n",
      "t:  24%|██▍       | 53/221 [00:02<00:09, 17.37it/s, now=None]\u001b[A\n",
      "t:  25%|██▍       | 55/221 [00:03<00:09, 17.78it/s, now=None]\u001b[A\n",
      "t:  26%|██▌       | 57/221 [00:03<00:09, 17.77it/s, now=None]\u001b[A"
     ]
    },
    {
     "name": "stdout",
     "output_type": "stream",
     "text": [
      "nonetype found\n",
      "nonetype found\n",
      "nonetype found\n"
     ]
    },
    {
     "name": "stderr",
     "output_type": "stream",
     "text": [
      "\n",
      "t:  27%|██▋       | 59/221 [00:03<00:09, 17.12it/s, now=None]\u001b[A\n",
      "t:  28%|██▊       | 61/221 [00:03<00:09, 16.56it/s, now=None]\u001b[A\n",
      "t:  29%|██▊       | 63/221 [00:03<00:09, 16.97it/s, now=None]\u001b[A\n",
      "t:  29%|██▉       | 65/221 [00:03<00:09, 17.18it/s, now=None]\u001b[A\n",
      "t:  30%|███       | 67/221 [00:03<00:08, 17.39it/s, now=None]\u001b[A\n",
      "t:  31%|███       | 69/221 [00:03<00:08, 17.71it/s, now=None]\u001b[A"
     ]
    },
    {
     "name": "stdout",
     "output_type": "stream",
     "text": [
      "nonetype found\n",
      "nonetype found\n"
     ]
    },
    {
     "name": "stderr",
     "output_type": "stream",
     "text": [
      "\n",
      "t:  32%|███▏      | 71/221 [00:03<00:08, 17.72it/s, now=None]\u001b[A\n",
      "t:  33%|███▎      | 73/221 [00:04<00:08, 17.55it/s, now=None]\u001b[A\n",
      "t:  34%|███▍      | 75/221 [00:04<00:08, 17.09it/s, now=None]\u001b[A\n",
      "t:  35%|███▍      | 77/221 [00:04<00:08, 17.13it/s, now=None]\u001b[A\n",
      "t:  36%|███▌      | 79/221 [00:04<00:08, 17.45it/s, now=None]\u001b[A\n",
      "t:  37%|███▋      | 81/221 [00:04<00:07, 17.56it/s, now=None]\u001b[A"
     ]
    },
    {
     "name": "stdout",
     "output_type": "stream",
     "text": [
      "nonetype found\n",
      "nonetype found\n"
     ]
    },
    {
     "name": "stderr",
     "output_type": "stream",
     "text": [
      "\n",
      "t:  38%|███▊      | 83/221 [00:04<00:07, 17.32it/s, now=None]\u001b[A\n",
      "t:  38%|███▊      | 85/221 [00:04<00:07, 17.18it/s, now=None]\u001b[A\n",
      "t:  39%|███▉      | 87/221 [00:04<00:07, 16.78it/s, now=None]\u001b[A\n",
      "t:  40%|████      | 89/221 [00:05<00:07, 17.05it/s, now=None]\u001b[A\n",
      "t:  41%|████      | 91/221 [00:05<00:07, 17.53it/s, now=None]\u001b[A\n",
      "t:  42%|████▏     | 93/221 [00:05<00:07, 17.64it/s, now=None]\u001b[A"
     ]
    },
    {
     "name": "stdout",
     "output_type": "stream",
     "text": [
      "nonetype found\n",
      "nonetype found\n"
     ]
    },
    {
     "name": "stderr",
     "output_type": "stream",
     "text": [
      "\n",
      "t:  43%|████▎     | 95/221 [00:05<00:07, 17.84it/s, now=None]\u001b[A\n",
      "t:  44%|████▍     | 97/221 [00:05<00:06, 17.84it/s, now=None]\u001b[A\n",
      "t:  45%|████▍     | 99/221 [00:05<00:06, 17.44it/s, now=None]\u001b[A\n",
      "t:  46%|████▌     | 101/221 [00:05<00:07, 16.68it/s, now=None]\u001b[A\n",
      "t:  47%|████▋     | 103/221 [00:05<00:07, 16.81it/s, now=None]\u001b[A\n",
      "t:  48%|████▊     | 105/221 [00:05<00:06, 16.70it/s, now=None]\u001b[A"
     ]
    },
    {
     "name": "stdout",
     "output_type": "stream",
     "text": [
      "nonetype found\n",
      "nonetype found\n"
     ]
    },
    {
     "name": "stderr",
     "output_type": "stream",
     "text": [
      "\n",
      "t:  48%|████▊     | 107/221 [00:06<00:07, 15.88it/s, now=None]\u001b[A\n",
      "t:  49%|████▉     | 109/221 [00:06<00:06, 16.42it/s, now=None]\u001b[A\n",
      "t:  50%|█████     | 111/221 [00:06<00:06, 16.77it/s, now=None]\u001b[A\n",
      "t:  51%|█████     | 113/221 [00:06<00:06, 17.08it/s, now=None]\u001b[A\n",
      "t:  52%|█████▏    | 115/221 [00:06<00:06, 16.88it/s, now=None]\u001b[A\n",
      "t:  53%|█████▎    | 117/221 [00:06<00:06, 17.04it/s, now=None]\u001b[A"
     ]
    },
    {
     "name": "stdout",
     "output_type": "stream",
     "text": [
      "nonetype found\n",
      "nonetype found\n",
      "nonetype found\n"
     ]
    },
    {
     "name": "stderr",
     "output_type": "stream",
     "text": [
      "\n",
      "t:  54%|█████▍    | 119/221 [00:06<00:05, 17.09it/s, now=None]\u001b[A\n",
      "t:  55%|█████▍    | 121/221 [00:06<00:05, 17.17it/s, now=None]\u001b[A\n",
      "t:  56%|█████▌    | 123/221 [00:07<00:05, 16.37it/s, now=None]\u001b[A\n",
      "t:  57%|█████▋    | 125/221 [00:07<00:05, 16.53it/s, now=None]\u001b[A\n",
      "t:  57%|█████▋    | 127/221 [00:07<00:05, 16.46it/s, now=None]\u001b[A\n",
      "t:  58%|█████▊    | 129/221 [00:07<00:05, 17.07it/s, now=None]\u001b[A"
     ]
    },
    {
     "name": "stdout",
     "output_type": "stream",
     "text": [
      "nonetype found\n",
      "nonetype found\n"
     ]
    },
    {
     "name": "stderr",
     "output_type": "stream",
     "text": [
      "\n",
      "t:  59%|█████▉    | 131/221 [00:07<00:05, 16.85it/s, now=None]\u001b[A\n",
      "t:  60%|██████    | 133/221 [00:07<00:05, 16.78it/s, now=None]\u001b[A\n",
      "t:  61%|██████    | 135/221 [00:07<00:05, 16.96it/s, now=None]\u001b[A\n",
      "t:  62%|██████▏   | 137/221 [00:07<00:05, 16.63it/s, now=None]\u001b[A\n",
      "t:  63%|██████▎   | 139/221 [00:07<00:04, 17.36it/s, now=None]\u001b[A\n",
      "t:  64%|██████▍   | 141/221 [00:08<00:04, 17.87it/s, now=None]\u001b[A"
     ]
    },
    {
     "name": "stdout",
     "output_type": "stream",
     "text": [
      "nonetype found\n",
      "nonetype found\n"
     ]
    },
    {
     "name": "stderr",
     "output_type": "stream",
     "text": [
      "\n",
      "t:  65%|██████▍   | 143/221 [00:08<00:04, 17.74it/s, now=None]\u001b[A\n",
      "t:  66%|██████▌   | 145/221 [00:08<00:04, 17.44it/s, now=None]\u001b[A\n",
      "t:  67%|██████▋   | 147/221 [00:08<00:04, 17.56it/s, now=None]\u001b[A\n",
      "t:  67%|██████▋   | 149/221 [00:08<00:04, 17.69it/s, now=None]\u001b[A\n",
      "t:  68%|██████▊   | 151/221 [00:08<00:03, 17.75it/s, now=None]\u001b[A\n",
      "t:  69%|██████▉   | 153/221 [00:08<00:03, 17.57it/s, now=None]\u001b[A"
     ]
    },
    {
     "name": "stdout",
     "output_type": "stream",
     "text": [
      "nonetype found\n",
      "nonetype found\n"
     ]
    },
    {
     "name": "stderr",
     "output_type": "stream",
     "text": [
      "\n",
      "t:  70%|███████   | 155/221 [00:08<00:03, 17.52it/s, now=None]\u001b[A\n",
      "t:  71%|███████   | 157/221 [00:09<00:03, 17.63it/s, now=None]\u001b[A\n",
      "t:  72%|███████▏  | 159/221 [00:09<00:03, 16.65it/s, now=None]\u001b[A\n",
      "t:  73%|███████▎  | 161/221 [00:09<00:03, 16.57it/s, now=None]\u001b[A\n",
      "t:  74%|███████▍  | 163/221 [00:09<00:03, 16.91it/s, now=None]\u001b[A\n",
      "t:  75%|███████▍  | 165/221 [00:09<00:03, 16.46it/s, now=None]\u001b[A"
     ]
    },
    {
     "name": "stdout",
     "output_type": "stream",
     "text": [
      "nonetype found\n",
      "nonetype found\n",
      "nonetype found\n"
     ]
    },
    {
     "name": "stderr",
     "output_type": "stream",
     "text": [
      "\n",
      "t:  76%|███████▌  | 167/221 [00:09<00:03, 16.42it/s, now=None]\u001b[A\n",
      "t:  76%|███████▋  | 169/221 [00:09<00:03, 16.68it/s, now=None]\u001b[A\n",
      "t:  77%|███████▋  | 171/221 [00:09<00:02, 17.03it/s, now=None]\u001b[A\n",
      "t:  78%|███████▊  | 173/221 [00:09<00:02, 16.86it/s, now=None]\u001b[A\n",
      "t:  79%|███████▉  | 175/221 [00:10<00:02, 17.29it/s, now=None]\u001b[A\n",
      "t:  80%|████████  | 177/221 [00:10<00:02, 17.65it/s, now=None]\u001b[A"
     ]
    },
    {
     "name": "stdout",
     "output_type": "stream",
     "text": [
      "nonetype found\n",
      "nonetype found\n",
      "nonetype found\n",
      "nonetype found\n"
     ]
    },
    {
     "name": "stderr",
     "output_type": "stream",
     "text": [
      "\n",
      "t:  81%|████████  | 179/221 [00:10<00:02, 17.59it/s, now=None]\u001b[A\n",
      "t:  82%|████████▏ | 181/221 [00:10<00:02, 17.25it/s, now=None]\u001b[A"
     ]
    },
    {
     "name": "stdout",
     "output_type": "stream",
     "text": [
      "nonetype found\n"
     ]
    },
    {
     "name": "stderr",
     "output_type": "stream",
     "text": [
      "\n",
      "t:  83%|████████▎ | 183/221 [00:10<00:02, 17.61it/s, now=None]\u001b[A\n",
      "t:  84%|████████▎ | 185/221 [00:10<00:02, 17.49it/s, now=None]\u001b[A\n",
      "t:  85%|████████▍ | 187/221 [00:10<00:01, 17.79it/s, now=None]\u001b[A\n",
      "t:  86%|████████▌ | 189/221 [00:10<00:01, 18.09it/s, now=None]\u001b[A"
     ]
    },
    {
     "name": "stdout",
     "output_type": "stream",
     "text": [
      "nonetype found\n",
      "nonetype found\n",
      "nonetype found\n"
     ]
    },
    {
     "name": "stderr",
     "output_type": "stream",
     "text": [
      "\n",
      "t:  86%|████████▋ | 191/221 [00:10<00:01, 17.59it/s, now=None]\u001b[A\n",
      "t:  87%|████████▋ | 193/221 [00:11<00:01, 17.65it/s, now=None]\u001b[A\n",
      "t:  88%|████████▊ | 195/221 [00:11<00:01, 17.62it/s, now=None]\u001b[A\n",
      "t:  89%|████████▉ | 197/221 [00:11<00:01, 16.58it/s, now=None]\u001b[A\n",
      "t:  90%|█████████ | 199/221 [00:11<00:01, 16.70it/s, now=None]\u001b[A\n",
      "t:  91%|█████████ | 201/221 [00:11<00:01, 16.36it/s, now=None]\u001b[A"
     ]
    },
    {
     "name": "stdout",
     "output_type": "stream",
     "text": [
      "nonetype found\n",
      "nonetype found\n",
      "nonetype found\n"
     ]
    },
    {
     "name": "stderr",
     "output_type": "stream",
     "text": [
      "\n",
      "t:  92%|█████████▏| 203/221 [00:11<00:01, 16.13it/s, now=None]\u001b[A\n",
      "t:  93%|█████████▎| 205/221 [00:11<00:01, 15.96it/s, now=None]\u001b[A\n",
      "t:  94%|█████████▎| 207/221 [00:11<00:00, 16.29it/s, now=None]\u001b[A\n",
      "t:  95%|█████████▍| 209/221 [00:12<00:00, 16.60it/s, now=None]\u001b[A\n",
      "t:  95%|█████████▌| 211/221 [00:12<00:00, 17.14it/s, now=None]\u001b[A\n",
      "t:  96%|█████████▋| 213/221 [00:12<00:00, 17.31it/s, now=None]\u001b[A"
     ]
    },
    {
     "name": "stdout",
     "output_type": "stream",
     "text": [
      "nonetype found\n",
      "nonetype found\n",
      "nonetype found\n",
      "nonetype found\n"
     ]
    },
    {
     "name": "stderr",
     "output_type": "stream",
     "text": [
      "\n",
      "t:  97%|█████████▋| 215/221 [00:12<00:00, 16.87it/s, now=None]\u001b[A\n",
      "t:  98%|█████████▊| 217/221 [00:12<00:00, 17.02it/s, now=None]\u001b[A"
     ]
    },
    {
     "name": "stdout",
     "output_type": "stream",
     "text": [
      "nonetype found\n"
     ]
    },
    {
     "name": "stderr",
     "output_type": "stream",
     "text": [
      "\n",
      "t:  99%|█████████▉| 219/221 [00:12<00:00, 16.46it/s, now=None]\u001b[A\n",
      "t: 100%|██████████| 221/221 [00:12<00:00, 16.84it/s, now=None]\u001b[A\n",
      "                                                              \u001b[A"
     ]
    },
    {
     "name": "stdout",
     "output_type": "stream",
     "text": [
      "Moviepy - Done !\n",
      "Moviepy - video ready test_videos_output/solidWhiteRight.mp4\n",
      "CPU times: user 12.6 s, sys: 532 ms, total: 13.1 s\n",
      "Wall time: 13.2 s\n"
     ]
    },
    {
     "data": {
      "image/png": "[encoded data removed]",
      "text/plain": [
       "<matplotlib.figure.Figure at 0x7f9c7405c390>"
      ]
     },
     "metadata": {},
     "output_type": "display_data"
    }
   ],
   "source": [
    "white_output = 'test_videos_output/solidWhiteRight.mp4'\n",
    "## To speed up the testing process you may want to try your pipeline on a shorter subclip of the video\n",
    "## To do so add .subclip(start_second,end_second) to the end of the line below\n",
    "## Where start_second and end_second are integer values representing the start and end of the subclip\n",
    "## You may also uncomment the following line for a subclip of the first 5 seconds\n",
    "#clip1 = VideoFileClip(\"test_videos/solidWhiteRight.mp4\").subclip(0,5)\n",
    "clip1 = VideoFileClip(\"test_videos/solidWhiteRight.mp4\")\n",
    "white_clip = clip1.fl_image(process_image) #NOTE: this function expects color images!!\n",
    "%time white_clip.write_videofile(white_output, audio=False)"
   ]
  },
  {
   "cell_type": "markdown",
   "metadata": {},
   "source": [
    "Play the video inline, or if you prefer find the video in your filesystem (should be in the same directory) and play it in your video player of choice."
   ]
  },
  {
   "cell_type": "code",
   "execution_count": null,
   "metadata": {},
   "outputs": [],
   "source": [
    "HTML(\"\"\"\n",
    "<video width=\"960\" height=\"540\" controls>\n",
    "  <source src=\"{0}\">\n",
    "</video>\n",
    "\"\"\".format(white_output))"
   ]
  },
  {
   "cell_type": "markdown",
   "metadata": {},
   "source": [
    "## Improve the draw_lines() function\n",
    "\n",
    "**At this point, if you were successful with making the pipeline and tuning parameters, you probably have the Hough line segments drawn onto the road, but what about identifying the full extent of the lane and marking it clearly as in the example video (P1_example.mp4)?  Think about defining a line to run the full length of the visible lane based on the line segments you identified with the Hough Transform. As mentioned previously, try to average and/or extrapolate the line segments you've detected to map out the full extent of the lane lines. You can see an example of the result you're going for in the video \"P1_example.mp4\".**\n",
    "\n",
    "**Go back and modify your draw_lines function accordingly and try re-running your pipeline. The new output should draw a single, solid line over the left lane line and a single, solid line over the right lane line. The lines should start from the bottom of the image and extend out to the top of the region of interest.**"
   ]
  },
  {
   "cell_type": "markdown",
   "metadata": {},
   "source": [
    "Now for the one with the solid yellow lane on the left. This one's more tricky!"
   ]
  },
  {
   "cell_type": "code",
   "execution_count": 14,
   "metadata": {},
   "outputs": [
    {
     "name": "stderr",
     "output_type": "stream",
     "text": [
      "\n",
      "t:   0%|          | 0/681 [00:00<?, ?it/s, now=None]\u001b[A\n",
      "t:   0%|          | 3/681 [00:00<00:26, 25.74it/s, now=None]\u001b[A"
     ]
    },
    {
     "name": "stdout",
     "output_type": "stream",
     "text": [
      "Moviepy - Building video test_videos_output/solidYellowLeft.mp4.\n",
      "Moviepy - Writing video test_videos_output/solidYellowLeft.mp4\n",
      "\n"
     ]
    },
    {
     "name": "stderr",
     "output_type": "stream",
     "text": [
      "\n",
      "t:   1%|          | 5/681 [00:00<00:30, 22.35it/s, now=None]\u001b[A\n",
      "t:   1%|          | 7/681 [00:00<00:32, 20.86it/s, now=None]\u001b[A\n",
      "t:   1%|▏         | 9/681 [00:00<00:33, 20.24it/s, now=None]\u001b[A"
     ]
    },
    {
     "name": "stdout",
     "output_type": "stream",
     "text": [
      "nonetype found\n",
      "nonetype found\n",
      "nonetype found\n",
      "nonetype found\n"
     ]
    },
    {
     "name": "stderr",
     "output_type": "stream",
     "text": [
      "\n",
      "t:   2%|▏         | 11/681 [00:00<00:34, 19.59it/s, now=None]\u001b[A\n",
      "t:   2%|▏         | 13/681 [00:00<00:35, 18.88it/s, now=None]\u001b[A\n",
      "t:   2%|▏         | 15/681 [00:00<00:35, 18.59it/s, now=None]\u001b[A\n",
      "t:   2%|▏         | 17/681 [00:00<00:36, 18.23it/s, now=None]\u001b[A\n",
      "t:   3%|▎         | 19/681 [00:01<00:36, 18.36it/s, now=None]\u001b[A\n",
      "t:   3%|▎         | 21/681 [00:01<00:35, 18.39it/s, now=None]\u001b[A"
     ]
    },
    {
     "name": "stdout",
     "output_type": "stream",
     "text": [
      "nonetype found\n",
      "nonetype found\n"
     ]
    },
    {
     "name": "stderr",
     "output_type": "stream",
     "text": [
      "\n",
      "t:   3%|▎         | 23/681 [00:01<00:36, 18.19it/s, now=None]\u001b[A\n",
      "t:   4%|▎         | 25/681 [00:01<00:36, 18.05it/s, now=None]\u001b[A\n",
      "t:   4%|▍         | 27/681 [00:01<00:36, 18.04it/s, now=None]\u001b[A\n",
      "t:   4%|▍         | 29/681 [00:01<00:36, 18.00it/s, now=None]\u001b[A\n",
      "t:   5%|▍         | 31/681 [00:01<00:36, 18.00it/s, now=None]\u001b[A\n",
      "t:   5%|▍         | 33/681 [00:01<00:35, 18.28it/s, now=None]\u001b[A"
     ]
    },
    {
     "name": "stdout",
     "output_type": "stream",
     "text": [
      "nonetype found\n",
      "nonetype found\n",
      "nonetype found\n"
     ]
    },
    {
     "name": "stderr",
     "output_type": "stream",
     "text": [
      "\n",
      "t:   5%|▌         | 35/681 [00:01<00:36, 17.90it/s, now=None]\u001b[A\n",
      "t:   5%|▌         | 37/681 [00:02<00:35, 17.95it/s, now=None]\u001b[A\n",
      "t:   6%|▌         | 39/681 [00:02<00:35, 17.97it/s, now=None]\u001b[A\n",
      "t:   6%|▌         | 41/681 [00:02<00:35, 17.94it/s, now=None]\u001b[A\n",
      "t:   6%|▋         | 43/681 [00:02<00:36, 17.51it/s, now=None]\u001b[A\n",
      "t:   7%|▋         | 45/681 [00:02<00:37, 17.01it/s, now=None]\u001b[A\n",
      "t:   7%|▋         | 47/681 [00:02<00:37, 16.88it/s, now=None]\u001b[A"
     ]
    },
    {
     "name": "stdout",
     "output_type": "stream",
     "text": [
      "nonetype found\n",
      "nonetype found\n"
     ]
    },
    {
     "name": "stderr",
     "output_type": "stream",
     "text": [
      "\n",
      "t:   7%|▋         | 49/681 [00:02<00:37, 17.07it/s, now=None]\u001b[A\n",
      "t:   7%|▋         | 51/681 [00:02<00:36, 17.23it/s, now=None]\u001b[A\n",
      "t:   8%|▊         | 53/681 [00:02<00:36, 17.22it/s, now=None]\u001b[A\n",
      "t:   8%|▊         | 55/681 [00:03<00:36, 17.30it/s, now=None]\u001b[A\n",
      "t:   8%|▊         | 57/681 [00:03<00:35, 17.70it/s, now=None]\u001b[A\n",
      "t:   9%|▊         | 59/681 [00:03<00:35, 17.57it/s, now=None]\u001b[A"
     ]
    },
    {
     "name": "stdout",
     "output_type": "stream",
     "text": [
      "nonetype found\n",
      "nonetype found\n"
     ]
    },
    {
     "name": "stderr",
     "output_type": "stream",
     "text": [
      "\n",
      "t:   9%|▉         | 61/681 [00:03<00:37, 16.66it/s, now=None]\u001b[A\n",
      "t:   9%|▉         | 63/681 [00:03<00:36, 16.97it/s, now=None]\u001b[A\n",
      "t:  10%|▉         | 65/681 [00:03<00:35, 17.12it/s, now=None]\u001b[A\n",
      "t:  10%|▉         | 67/681 [00:03<00:37, 16.53it/s, now=None]\u001b[A\n",
      "t:  10%|█         | 69/681 [00:03<00:36, 16.73it/s, now=None]\u001b[A\n",
      "t:  10%|█         | 71/681 [00:04<00:35, 17.02it/s, now=None]\u001b[A"
     ]
    },
    {
     "name": "stdout",
     "output_type": "stream",
     "text": [
      "nonetype found\n",
      "nonetype found\n"
     ]
    },
    {
     "name": "stderr",
     "output_type": "stream",
     "text": [
      "\n",
      "t:  11%|█         | 73/681 [00:04<00:36, 16.65it/s, now=None]\u001b[A\n",
      "t:  11%|█         | 75/681 [00:04<00:35, 16.96it/s, now=None]\u001b[A\n",
      "t:  11%|█▏        | 77/681 [00:04<00:34, 17.29it/s, now=None]\u001b[A\n",
      "t:  12%|█▏        | 79/681 [00:04<00:34, 17.46it/s, now=None]\u001b[A\n",
      "t:  12%|█▏        | 81/681 [00:04<00:36, 16.54it/s, now=None]\u001b[A\n",
      "t:  12%|█▏        | 83/681 [00:04<00:35, 16.64it/s, now=None]\u001b[A\n",
      "t:  12%|█▏        | 85/681 [00:04<00:35, 16.79it/s, now=None]\u001b[A"
     ]
    },
    {
     "name": "stdout",
     "output_type": "stream",
     "text": [
      "nonetype found\n"
     ]
    },
    {
     "name": "stderr",
     "output_type": "stream",
     "text": [
      "\n",
      "t:  13%|█▎        | 87/681 [00:04<00:35, 16.81it/s, now=None]\u001b[A\n",
      "t:  13%|█▎        | 89/681 [00:05<00:34, 17.11it/s, now=None]\u001b[A\n",
      "t:  13%|█▎        | 91/681 [00:05<00:34, 17.01it/s, now=None]\u001b[A\n",
      "t:  14%|█▎        | 93/681 [00:05<00:35, 16.65it/s, now=None]\u001b[A\n",
      "t:  14%|█▍        | 95/681 [00:05<00:34, 16.79it/s, now=None]\u001b[A\n",
      "t:  14%|█▍        | 97/681 [00:05<00:34, 16.73it/s, now=None]\u001b[A"
     ]
    },
    {
     "name": "stdout",
     "output_type": "stream",
     "text": [
      "nonetype found\n",
      "nonetype found\n",
      "nonetype found\n",
      "nonetype found\n"
     ]
    },
    {
     "name": "stderr",
     "output_type": "stream",
     "text": [
      "\n",
      "t:  15%|█▍        | 99/681 [00:05<00:34, 16.83it/s, now=None]\u001b[A\n",
      "t:  15%|█▍        | 101/681 [00:05<00:34, 16.75it/s, now=None]\u001b[A\n",
      "t:  15%|█▌        | 103/681 [00:05<00:33, 17.14it/s, now=None]\u001b[A\n",
      "t:  15%|█▌        | 105/681 [00:06<00:33, 17.26it/s, now=None]\u001b[A\n",
      "t:  16%|█▌        | 107/681 [00:06<00:33, 17.34it/s, now=None]\u001b[A\n",
      "t:  16%|█▌        | 109/681 [00:06<00:33, 17.26it/s, now=None]\u001b[A\n",
      "t:  16%|█▋        | 111/681 [00:06<00:33, 17.10it/s, now=None]\u001b[A"
     ]
    },
    {
     "name": "stdout",
     "output_type": "stream",
     "text": [
      "nonetype found\n",
      "nonetype found\n"
     ]
    },
    {
     "name": "stderr",
     "output_type": "stream",
     "text": [
      "\n",
      "t:  17%|█▋        | 113/681 [00:06<00:35, 16.20it/s, now=None]\u001b[A\n",
      "t:  17%|█▋        | 115/681 [00:06<00:33, 16.71it/s, now=None]\u001b[A\n",
      "t:  17%|█▋        | 117/681 [00:06<00:33, 17.00it/s, now=None]\u001b[A\n",
      "t:  17%|█▋        | 119/681 [00:06<00:32, 17.35it/s, now=None]\u001b[A\n",
      "t:  18%|█▊        | 121/681 [00:06<00:32, 17.34it/s, now=None]\u001b[A\n",
      "t:  18%|█▊        | 123/681 [00:07<00:31, 17.76it/s, now=None]\u001b[A"
     ]
    },
    {
     "name": "stdout",
     "output_type": "stream",
     "text": [
      "nonetype found\n",
      "nonetype found\n",
      "nonetype found\n"
     ]
    },
    {
     "name": "stderr",
     "output_type": "stream",
     "text": [
      "\n",
      "t:  18%|█▊        | 125/681 [00:07<00:32, 17.37it/s, now=None]\u001b[A\n",
      "t:  19%|█▊        | 127/681 [00:07<00:31, 17.65it/s, now=None]\u001b[A\n",
      "t:  19%|█▉        | 129/681 [00:07<00:33, 16.50it/s, now=None]\u001b[A\n",
      "t:  19%|█▉        | 131/681 [00:07<00:33, 16.48it/s, now=None]\u001b[A\n",
      "t:  20%|█▉        | 133/681 [00:07<00:33, 16.28it/s, now=None]\u001b[A\n",
      "t:  20%|█▉        | 135/681 [00:07<00:32, 16.77it/s, now=None]\u001b[A"
     ]
    },
    {
     "name": "stdout",
     "output_type": "stream",
     "text": [
      "nonetype found\n",
      "nonetype found\n",
      "nonetype found\n"
     ]
    },
    {
     "name": "stderr",
     "output_type": "stream",
     "text": [
      "\n",
      "t:  20%|██        | 137/681 [00:07<00:31, 17.13it/s, now=None]\u001b[A\n",
      "t:  20%|██        | 139/681 [00:08<00:30, 17.54it/s, now=None]\u001b[A\n",
      "t:  21%|██        | 141/681 [00:08<00:30, 17.64it/s, now=None]\u001b[A\n",
      "t:  21%|██        | 143/681 [00:08<00:32, 16.65it/s, now=None]\u001b[A\n",
      "t:  21%|██▏       | 145/681 [00:08<00:32, 16.62it/s, now=None]\u001b[A\n",
      "t:  22%|██▏       | 147/681 [00:08<00:30, 17.32it/s, now=None]\u001b[A"
     ]
    },
    {
     "name": "stdout",
     "output_type": "stream",
     "text": [
      "nonetype found\n",
      "nonetype found\n",
      "nonetype found\n",
      "nonetype found\n"
     ]
    },
    {
     "name": "stderr",
     "output_type": "stream",
     "text": [
      "\n",
      "t:  22%|██▏       | 149/681 [00:08<00:32, 16.58it/s, now=None]\u001b[A\n",
      "t:  22%|██▏       | 151/681 [00:08<00:31, 16.89it/s, now=None]\u001b[A\n",
      "t:  22%|██▏       | 153/681 [00:08<00:30, 17.36it/s, now=None]\u001b[A\n",
      "t:  23%|██▎       | 155/681 [00:08<00:29, 17.63it/s, now=None]\u001b[A\n",
      "t:  23%|██▎       | 157/681 [00:09<00:30, 17.04it/s, now=None]\u001b[A\n",
      "t:  23%|██▎       | 159/681 [00:09<00:29, 17.81it/s, now=None]\u001b[A\n",
      "t:  24%|██▎       | 161/681 [00:09<00:29, 17.83it/s, now=None]\u001b[A"
     ]
    },
    {
     "name": "stdout",
     "output_type": "stream",
     "text": [
      "nonetype found\n",
      "nonetype found\n"
     ]
    },
    {
     "name": "stderr",
     "output_type": "stream",
     "text": [
      "\n",
      "t:  24%|██▍       | 163/681 [00:09<00:28, 17.87it/s, now=None]\u001b[A\n",
      "t:  24%|██▍       | 165/681 [00:09<00:28, 17.94it/s, now=None]\u001b[A\n",
      "t:  25%|██▍       | 167/681 [00:09<00:28, 17.95it/s, now=None]\u001b[A\n",
      "t:  25%|██▍       | 169/681 [00:09<00:28, 17.79it/s, now=None]\u001b[A\n",
      "t:  25%|██▌       | 171/681 [00:09<00:28, 18.08it/s, now=None]\u001b[A\n",
      "t:  25%|██▌       | 173/681 [00:09<00:28, 18.06it/s, now=None]\u001b[A"
     ]
    },
    {
     "name": "stdout",
     "output_type": "stream",
     "text": [
      "nonetype found\n",
      "nonetype found\n"
     ]
    },
    {
     "name": "stderr",
     "output_type": "stream",
     "text": [
      "\n",
      "t:  26%|██▌       | 175/681 [00:10<00:28, 17.88it/s, now=None]\u001b[A\n",
      "t:  26%|██▌       | 177/681 [00:10<00:27, 18.06it/s, now=None]\u001b[A"
     ]
    },
    {
     "name": "stdout",
     "output_type": "stream",
     "text": [
      "nonetype found\n"
     ]
    },
    {
     "name": "stderr",
     "output_type": "stream",
     "text": [
      "\n",
      "t:  26%|██▋       | 179/681 [00:10<00:28, 17.63it/s, now=None]\u001b[A\n",
      "t:  27%|██▋       | 181/681 [00:10<00:28, 17.74it/s, now=None]\u001b[A\n",
      "t:  27%|██▋       | 183/681 [00:10<00:28, 17.31it/s, now=None]\u001b[A\n",
      "t:  27%|██▋       | 185/681 [00:10<00:28, 17.52it/s, now=None]\u001b[A"
     ]
    },
    {
     "name": "stdout",
     "output_type": "stream",
     "text": [
      "nonetype found\n"
     ]
    },
    {
     "name": "stderr",
     "output_type": "stream",
     "text": [
      "\n",
      "t:  27%|██▋       | 187/681 [00:10<00:28, 17.29it/s, now=None]\u001b[A\n",
      "t:  28%|██▊       | 189/681 [00:10<00:28, 17.50it/s, now=None]\u001b[A\n",
      "t:  28%|██▊       | 191/681 [00:10<00:28, 17.49it/s, now=None]\u001b[A\n",
      "t:  28%|██▊       | 193/681 [00:11<00:27, 17.72it/s, now=None]\u001b[A\n",
      "t:  29%|██▊       | 195/681 [00:11<00:28, 17.31it/s, now=None]\u001b[A\n",
      "t:  29%|██▉       | 197/681 [00:11<00:27, 17.79it/s, now=None]\u001b[A"
     ]
    },
    {
     "name": "stdout",
     "output_type": "stream",
     "text": [
      "nonetype found\n",
      "nonetype found\n"
     ]
    },
    {
     "name": "stderr",
     "output_type": "stream",
     "text": [
      "\n",
      "t:  29%|██▉       | 199/681 [00:11<00:27, 17.79it/s, now=None]\u001b[A\n",
      "t:  30%|██▉       | 201/681 [00:11<00:27, 17.71it/s, now=None]\u001b[A\n",
      "t:  30%|██▉       | 203/681 [00:11<00:27, 17.45it/s, now=None]\u001b[A\n",
      "t:  30%|███       | 205/681 [00:11<00:27, 17.41it/s, now=None]\u001b[A\n",
      "t:  30%|███       | 207/681 [00:11<00:27, 17.54it/s, now=None]\u001b[A\n",
      "t:  31%|███       | 209/681 [00:11<00:26, 17.50it/s, now=None]\u001b[A"
     ]
    },
    {
     "name": "stdout",
     "output_type": "stream",
     "text": [
      "nonetype found\n",
      "nonetype found\n"
     ]
    },
    {
     "name": "stderr",
     "output_type": "stream",
     "text": [
      "\n",
      "t:  31%|███       | 211/681 [00:12<00:27, 17.01it/s, now=None]\u001b[A\n",
      "t:  31%|███▏      | 213/681 [00:12<00:27, 16.74it/s, now=None]\u001b[A\n",
      "t:  32%|███▏      | 215/681 [00:12<00:28, 16.22it/s, now=None]\u001b[A\n",
      "t:  32%|███▏      | 217/681 [00:12<00:28, 16.18it/s, now=None]\u001b[A\n",
      "t:  32%|███▏      | 219/681 [00:12<00:28, 16.25it/s, now=None]\u001b[A\n",
      "t:  32%|███▏      | 221/681 [00:12<00:27, 16.68it/s, now=None]\u001b[A\n",
      "t:  33%|███▎      | 223/681 [00:12<00:27, 16.67it/s, now=None]\u001b[A"
     ]
    },
    {
     "name": "stdout",
     "output_type": "stream",
     "text": [
      "nonetype found\n",
      "nonetype found\n"
     ]
    },
    {
     "name": "stderr",
     "output_type": "stream",
     "text": [
      "\n",
      "t:  33%|███▎      | 225/681 [00:12<00:27, 16.54it/s, now=None]\u001b[A\n",
      "t:  33%|███▎      | 227/681 [00:13<00:27, 16.36it/s, now=None]\u001b[A\n",
      "t:  34%|███▎      | 229/681 [00:13<00:27, 16.59it/s, now=None]\u001b[A\n",
      "t:  34%|███▍      | 231/681 [00:13<00:27, 16.54it/s, now=None]\u001b[A\n",
      "t:  34%|███▍      | 233/681 [00:13<00:28, 15.81it/s, now=None]\u001b[A"
     ]
    },
    {
     "name": "stdout",
     "output_type": "stream",
     "text": [
      "nonetype found\n",
      "nonetype found\n"
     ]
    },
    {
     "name": "stderr",
     "output_type": "stream",
     "text": [
      "\n",
      "t:  35%|███▍      | 235/681 [00:13<00:27, 16.10it/s, now=None]\u001b[A\n",
      "t:  35%|███▍      | 237/681 [00:13<00:27, 16.27it/s, now=None]\u001b[A\n",
      "t:  35%|███▌      | 239/681 [00:13<00:26, 16.58it/s, now=None]\u001b[A\n",
      "t:  35%|███▌      | 241/681 [00:13<00:26, 16.45it/s, now=None]\u001b[A\n",
      "t:  36%|███▌      | 243/681 [00:14<00:26, 16.61it/s, now=None]\u001b[A\n",
      "t:  36%|███▌      | 245/681 [00:14<00:25, 16.88it/s, now=None]\u001b[A\n",
      "t:  36%|███▋      | 247/681 [00:14<00:26, 16.41it/s, now=None]\u001b[A"
     ]
    },
    {
     "name": "stdout",
     "output_type": "stream",
     "text": [
      "nonetype found\n",
      "nonetype found\n",
      "nonetype found\n"
     ]
    },
    {
     "name": "stderr",
     "output_type": "stream",
     "text": [
      "\n",
      "t:  37%|███▋      | 249/681 [00:14<00:26, 16.42it/s, now=None]\u001b[A\n",
      "t:  37%|███▋      | 251/681 [00:14<00:25, 16.54it/s, now=None]\u001b[A\n",
      "t:  37%|███▋      | 253/681 [00:14<00:25, 16.57it/s, now=None]\u001b[A\n",
      "t:  37%|███▋      | 255/681 [00:14<00:25, 16.42it/s, now=None]\u001b[A\n",
      "t:  38%|███▊      | 257/681 [00:14<00:25, 16.54it/s, now=None]\u001b[A\n",
      "t:  38%|███▊      | 259/681 [00:15<00:26, 16.06it/s, now=None]\u001b[A\n",
      "t:  38%|███▊      | 261/681 [00:15<00:25, 16.27it/s, now=None]\u001b[A"
     ]
    },
    {
     "name": "stdout",
     "output_type": "stream",
     "text": [
      "nonetype found\n",
      "nonetype found\n",
      "nonetype found\n"
     ]
    },
    {
     "name": "stderr",
     "output_type": "stream",
     "text": [
      "\n",
      "t:  39%|███▊      | 263/681 [00:15<00:25, 16.20it/s, now=None]\u001b[A\n",
      "t:  39%|███▉      | 265/681 [00:15<00:25, 16.09it/s, now=None]\u001b[A\n",
      "t:  39%|███▉      | 267/681 [00:15<00:25, 16.19it/s, now=None]\u001b[A\n",
      "t:  40%|███▉      | 269/681 [00:15<00:25, 16.48it/s, now=None]\u001b[A\n",
      "t:  40%|███▉      | 271/681 [00:15<00:25, 16.12it/s, now=None]\u001b[A\n",
      "t:  40%|████      | 273/681 [00:15<00:24, 16.33it/s, now=None]\u001b[A"
     ]
    },
    {
     "name": "stdout",
     "output_type": "stream",
     "text": [
      "nonetype found\n",
      "nonetype found\n",
      "nonetype found\n"
     ]
    },
    {
     "name": "stderr",
     "output_type": "stream",
     "text": [
      "\n",
      "t:  40%|████      | 275/681 [00:16<00:24, 16.62it/s, now=None]\u001b[A\n",
      "t:  41%|████      | 277/681 [00:16<00:24, 16.30it/s, now=None]\u001b[A\n",
      "t:  41%|████      | 279/681 [00:16<00:24, 16.59it/s, now=None]\u001b[A\n",
      "t:  41%|████▏     | 281/681 [00:16<00:23, 16.84it/s, now=None]\u001b[A\n",
      "t:  42%|████▏     | 283/681 [00:16<00:24, 16.46it/s, now=None]\u001b[A\n",
      "t:  42%|████▏     | 285/681 [00:16<00:23, 16.82it/s, now=None]\u001b[A\n",
      "t:  42%|████▏     | 287/681 [00:16<00:23, 17.01it/s, now=None]\u001b[A"
     ]
    },
    {
     "name": "stdout",
     "output_type": "stream",
     "text": [
      "nonetype found\n"
     ]
    },
    {
     "name": "stderr",
     "output_type": "stream",
     "text": [
      "\n",
      "t:  42%|████▏     | 289/681 [00:16<00:22, 17.27it/s, now=None]\u001b[A\n",
      "t:  43%|████▎     | 291/681 [00:16<00:22, 17.33it/s, now=None]\u001b[A\n",
      "t:  43%|████▎     | 293/681 [00:17<00:22, 17.55it/s, now=None]\u001b[A\n",
      "t:  43%|████▎     | 295/681 [00:17<00:21, 17.86it/s, now=None]\u001b[A\n",
      "t:  44%|████▎     | 297/681 [00:17<00:21, 17.95it/s, now=None]\u001b[A\n",
      "t:  44%|████▍     | 299/681 [00:17<00:21, 17.89it/s, now=None]\u001b[A"
     ]
    },
    {
     "name": "stdout",
     "output_type": "stream",
     "text": [
      "nonetype found\n",
      "nonetype found\n",
      "nonetype found\n"
     ]
    },
    {
     "name": "stderr",
     "output_type": "stream",
     "text": [
      "\n",
      "t:  44%|████▍     | 301/681 [00:17<00:21, 17.88it/s, now=None]\u001b[A\n",
      "t:  44%|████▍     | 303/681 [00:17<00:21, 17.92it/s, now=None]\u001b[A\n",
      "t:  45%|████▍     | 305/681 [00:17<00:20, 18.10it/s, now=None]\u001b[A\n",
      "t:  45%|████▌     | 307/681 [00:17<00:20, 18.23it/s, now=None]\u001b[A\n",
      "t:  45%|████▌     | 309/681 [00:17<00:21, 17.63it/s, now=None]\u001b[A\n",
      "t:  46%|████▌     | 311/681 [00:18<00:20, 18.02it/s, now=None]\u001b[A"
     ]
    },
    {
     "name": "stdout",
     "output_type": "stream",
     "text": [
      "nonetype found\n",
      "nonetype found\n"
     ]
    },
    {
     "name": "stderr",
     "output_type": "stream",
     "text": [
      "\n",
      "t:  46%|████▌     | 313/681 [00:18<00:21, 17.27it/s, now=None]\u001b[A\n",
      "t:  46%|████▋     | 315/681 [00:18<00:21, 17.28it/s, now=None]\u001b[A\n",
      "t:  47%|████▋     | 317/681 [00:18<00:20, 17.65it/s, now=None]\u001b[A\n",
      "t:  47%|████▋     | 319/681 [00:18<00:20, 17.60it/s, now=None]\u001b[A\n",
      "t:  47%|████▋     | 322/681 [00:18<00:19, 18.21it/s, now=None]\u001b[A"
     ]
    },
    {
     "name": "stdout",
     "output_type": "stream",
     "text": [
      "nonetype found\n",
      "nonetype found\n"
     ]
    },
    {
     "name": "stderr",
     "output_type": "stream",
     "text": [
      "\n",
      "t:  48%|████▊     | 324/681 [00:18<00:19, 18.08it/s, now=None]\u001b[A\n",
      "t:  48%|████▊     | 326/681 [00:18<00:20, 16.95it/s, now=None]\u001b[A\n",
      "t:  48%|████▊     | 328/681 [00:19<00:20, 17.43it/s, now=None]\u001b[A\n",
      "t:  48%|████▊     | 330/681 [00:19<00:19, 17.64it/s, now=None]\u001b[A\n",
      "t:  49%|████▉     | 332/681 [00:19<00:19, 17.94it/s, now=None]\u001b[A\n",
      "t:  49%|████▉     | 334/681 [00:19<00:20, 17.25it/s, now=None]\u001b[A\n",
      "t:  49%|████▉     | 336/681 [00:19<00:19, 17.55it/s, now=None]\u001b[A"
     ]
    },
    {
     "name": "stdout",
     "output_type": "stream",
     "text": [
      "nonetype found\n"
     ]
    },
    {
     "name": "stderr",
     "output_type": "stream",
     "text": [
      "\n",
      "t:  50%|████▉     | 338/681 [00:19<00:19, 17.57it/s, now=None]\u001b[A\n",
      "t:  50%|████▉     | 340/681 [00:19<00:19, 17.71it/s, now=None]\u001b[A\n",
      "t:  50%|█████     | 342/681 [00:19<00:19, 17.44it/s, now=None]\u001b[A\n",
      "t:  51%|█████     | 344/681 [00:19<00:19, 17.24it/s, now=None]\u001b[A\n",
      "t:  51%|█████     | 346/681 [00:20<00:19, 17.55it/s, now=None]\u001b[A"
     ]
    },
    {
     "name": "stdout",
     "output_type": "stream",
     "text": [
      "nonetype found\n",
      "nonetype found\n",
      "nonetype found\n",
      "nonetype found\n"
     ]
    },
    {
     "name": "stderr",
     "output_type": "stream",
     "text": [
      "\n",
      "t:  51%|█████     | 348/681 [00:20<00:18, 17.75it/s, now=None]\u001b[A\n",
      "t:  51%|█████▏    | 350/681 [00:20<00:19, 16.78it/s, now=None]\u001b[A\n",
      "t:  52%|█████▏    | 352/681 [00:20<00:19, 17.31it/s, now=None]\u001b[A\n",
      "t:  52%|█████▏    | 354/681 [00:20<00:18, 17.51it/s, now=None]\u001b[A\n",
      "t:  52%|█████▏    | 356/681 [00:20<00:18, 17.69it/s, now=None]\u001b[A\n",
      "t:  53%|█████▎    | 358/681 [00:20<00:18, 17.85it/s, now=None]\u001b[A\n",
      "t:  53%|█████▎    | 360/681 [00:20<00:17, 18.12it/s, now=None]\u001b[A"
     ]
    },
    {
     "name": "stdout",
     "output_type": "stream",
     "text": [
      "nonetype found\n",
      "nonetype found\n",
      "nonetype found\n"
     ]
    },
    {
     "name": "stderr",
     "output_type": "stream",
     "text": [
      "\n",
      "t:  53%|█████▎    | 362/681 [00:20<00:17, 17.98it/s, now=None]\u001b[A\n",
      "t:  53%|█████▎    | 364/681 [00:21<00:17, 18.12it/s, now=None]\u001b[A\n",
      "t:  54%|█████▎    | 366/681 [00:21<00:17, 18.08it/s, now=None]\u001b[A\n",
      "t:  54%|█████▍    | 368/681 [00:21<00:17, 18.08it/s, now=None]\u001b[A\n",
      "t:  54%|█████▍    | 370/681 [00:21<00:16, 18.46it/s, now=None]\u001b[A\n",
      "t:  55%|█████▍    | 372/681 [00:21<00:17, 17.98it/s, now=None]\u001b[A"
     ]
    },
    {
     "name": "stdout",
     "output_type": "stream",
     "text": [
      "nonetype found\n",
      "nonetype found\n"
     ]
    },
    {
     "name": "stderr",
     "output_type": "stream",
     "text": [
      "\n",
      "t:  55%|█████▍    | 374/681 [00:21<00:17, 17.94it/s, now=None]\u001b[A\n",
      "t:  55%|█████▌    | 376/681 [00:21<00:17, 17.86it/s, now=None]\u001b[A\n",
      "t:  56%|█████▌    | 378/681 [00:21<00:16, 18.10it/s, now=None]\u001b[A\n",
      "t:  56%|█████▌    | 380/681 [00:21<00:16, 18.13it/s, now=None]\u001b[A\n",
      "t:  56%|█████▌    | 382/681 [00:22<00:17, 17.38it/s, now=None]\u001b[A\n",
      "t:  56%|█████▋    | 384/681 [00:22<00:16, 17.67it/s, now=None]\u001b[A"
     ]
    },
    {
     "name": "stdout",
     "output_type": "stream",
     "text": [
      "nonetype found\n",
      "nonetype found\n"
     ]
    },
    {
     "name": "stderr",
     "output_type": "stream",
     "text": [
      "\n",
      "t:  57%|█████▋    | 386/681 [00:22<00:16, 17.72it/s, now=None]\u001b[A\n",
      "t:  57%|█████▋    | 388/681 [00:22<00:16, 17.87it/s, now=None]\u001b[A\n",
      "t:  57%|█████▋    | 390/681 [00:22<00:16, 17.47it/s, now=None]\u001b[A\n",
      "t:  58%|█████▊    | 392/681 [00:22<00:16, 17.72it/s, now=None]\u001b[A\n",
      "t:  58%|█████▊    | 395/681 [00:22<00:15, 18.46it/s, now=None]\u001b[A"
     ]
    },
    {
     "name": "stdout",
     "output_type": "stream",
     "text": [
      "nonetype found\n",
      "nonetype found\n",
      "nonetype found\n"
     ]
    },
    {
     "name": "stderr",
     "output_type": "stream",
     "text": [
      "\n",
      "t:  58%|█████▊    | 397/681 [00:22<00:15, 18.46it/s, now=None]\u001b[A\n",
      "t:  59%|█████▊    | 399/681 [00:23<00:15, 18.13it/s, now=None]\u001b[A\n",
      "t:  59%|█████▉    | 401/681 [00:23<00:15, 18.33it/s, now=None]\u001b[A\n",
      "t:  59%|█████▉    | 403/681 [00:23<00:15, 18.03it/s, now=None]\u001b[A\n",
      "t:  59%|█████▉    | 405/681 [00:23<00:15, 18.23it/s, now=None]\u001b[A\n",
      "t:  60%|█████▉    | 407/681 [00:23<00:17, 15.53it/s, now=None]\u001b[A"
     ]
    },
    {
     "name": "stdout",
     "output_type": "stream",
     "text": [
      "nonetype found\n",
      "nonetype found\n"
     ]
    },
    {
     "name": "stderr",
     "output_type": "stream",
     "text": [
      "\n",
      "t:  60%|██████    | 409/681 [00:23<00:16, 16.11it/s, now=None]\u001b[A\n",
      "t:  60%|██████    | 411/681 [00:23<00:16, 16.28it/s, now=None]\u001b[A\n",
      "t:  61%|██████    | 413/681 [00:23<00:15, 17.02it/s, now=None]\u001b[A\n",
      "t:  61%|██████    | 415/681 [00:23<00:15, 17.31it/s, now=None]\u001b[A\n",
      "t:  61%|██████    | 417/681 [00:24<00:15, 17.51it/s, now=None]\u001b[A\n",
      "t:  62%|██████▏   | 419/681 [00:24<00:14, 17.69it/s, now=None]\u001b[A\n",
      "t:  62%|██████▏   | 421/681 [00:24<00:14, 17.88it/s, now=None]\u001b[A"
     ]
    },
    {
     "name": "stdout",
     "output_type": "stream",
     "text": [
      "nonetype found\n"
     ]
    },
    {
     "name": "stderr",
     "output_type": "stream",
     "text": [
      "\n",
      "t:  62%|██████▏   | 423/681 [00:24<00:14, 17.81it/s, now=None]\u001b[A\n",
      "t:  62%|██████▏   | 425/681 [00:24<00:14, 18.02it/s, now=None]\u001b[A\n",
      "t:  63%|██████▎   | 427/681 [00:24<00:14, 17.08it/s, now=None]\u001b[A\n",
      "t:  63%|██████▎   | 429/681 [00:24<00:14, 17.41it/s, now=None]\u001b[A\n",
      "t:  63%|██████▎   | 431/681 [00:24<00:13, 17.89it/s, now=None]\u001b[A\n",
      "t:  64%|██████▎   | 433/681 [00:24<00:13, 18.10it/s, now=None]\u001b[A"
     ]
    },
    {
     "name": "stdout",
     "output_type": "stream",
     "text": [
      "nonetype found\n",
      "nonetype found\n"
     ]
    },
    {
     "name": "stderr",
     "output_type": "stream",
     "text": [
      "\n",
      "t:  64%|██████▍   | 435/681 [00:25<00:13, 18.02it/s, now=None]\u001b[A\n",
      "t:  64%|██████▍   | 437/681 [00:25<00:13, 18.23it/s, now=None]\u001b[A\n",
      "t:  64%|██████▍   | 439/681 [00:25<00:13, 18.16it/s, now=None]\u001b[A\n",
      "t:  65%|██████▍   | 441/681 [00:25<00:13, 17.67it/s, now=None]\u001b[A\n",
      "t:  65%|██████▌   | 443/681 [00:25<00:13, 18.11it/s, now=None]\u001b[A\n",
      "t:  65%|██████▌   | 445/681 [00:25<00:13, 17.78it/s, now=None]\u001b[A"
     ]
    },
    {
     "name": "stdout",
     "output_type": "stream",
     "text": [
      "nonetype found\n",
      "nonetype found\n",
      "nonetype found\n"
     ]
    },
    {
     "name": "stderr",
     "output_type": "stream",
     "text": [
      "\n",
      "t:  66%|██████▌   | 447/681 [00:25<00:13, 17.52it/s, now=None]\u001b[A\n",
      "t:  66%|██████▌   | 449/681 [00:25<00:13, 17.74it/s, now=None]\u001b[A\n",
      "t:  66%|██████▌   | 451/681 [00:25<00:13, 17.46it/s, now=None]\u001b[A\n",
      "t:  67%|██████▋   | 453/681 [00:26<00:12, 17.58it/s, now=None]\u001b[A\n",
      "t:  67%|██████▋   | 455/681 [00:26<00:13, 17.14it/s, now=None]\u001b[A\n",
      "t:  67%|██████▋   | 457/681 [00:26<00:12, 17.36it/s, now=None]\u001b[A"
     ]
    },
    {
     "name": "stdout",
     "output_type": "stream",
     "text": [
      "nonetype found\n",
      "nonetype found\n",
      "nonetype found\n"
     ]
    },
    {
     "name": "stderr",
     "output_type": "stream",
     "text": [
      "\n",
      "t:  67%|██████▋   | 459/681 [00:26<00:13, 16.39it/s, now=None]\u001b[A\n",
      "t:  68%|██████▊   | 461/681 [00:26<00:13, 16.92it/s, now=None]\u001b[A\n",
      "t:  68%|██████▊   | 463/681 [00:26<00:12, 17.15it/s, now=None]\u001b[A\n",
      "t:  68%|██████▊   | 465/681 [00:26<00:12, 17.35it/s, now=None]\u001b[A\n",
      "t:  69%|██████▊   | 467/681 [00:26<00:12, 16.70it/s, now=None]\u001b[A\n",
      "t:  69%|██████▉   | 470/681 [00:27<00:12, 17.51it/s, now=None]\u001b[A"
     ]
    },
    {
     "name": "stdout",
     "output_type": "stream",
     "text": [
      "nonetype found\n",
      "nonetype found\n"
     ]
    },
    {
     "name": "stderr",
     "output_type": "stream",
     "text": [
      "\n",
      "t:  69%|██████▉   | 472/681 [00:27<00:11, 17.65it/s, now=None]\u001b[A\n",
      "t:  70%|██████▉   | 474/681 [00:27<00:11, 17.93it/s, now=None]\u001b[A\n",
      "t:  70%|██████▉   | 476/681 [00:27<00:11, 17.96it/s, now=None]\u001b[A\n",
      "t:  70%|███████   | 478/681 [00:27<00:11, 17.98it/s, now=None]\u001b[A\n",
      "t:  70%|███████   | 480/681 [00:27<00:11, 18.21it/s, now=None]\u001b[A\n",
      "t:  71%|███████   | 482/681 [00:27<00:10, 18.42it/s, now=None]\u001b[A"
     ]
    },
    {
     "name": "stdout",
     "output_type": "stream",
     "text": [
      "nonetype found\n",
      "nonetype found\n"
     ]
    },
    {
     "name": "stderr",
     "output_type": "stream",
     "text": [
      "\n",
      "t:  71%|███████   | 484/681 [00:27<00:10, 18.49it/s, now=None]\u001b[A\n",
      "t:  71%|███████▏  | 486/681 [00:27<00:10, 18.34it/s, now=None]\u001b[A\n",
      "t:  72%|███████▏  | 488/681 [00:28<00:10, 18.22it/s, now=None]\u001b[A\n",
      "t:  72%|███████▏  | 490/681 [00:28<00:10, 18.09it/s, now=None]\u001b[A\n",
      "t:  72%|███████▏  | 492/681 [00:28<00:10, 18.04it/s, now=None]\u001b[A\n",
      "t:  73%|███████▎  | 494/681 [00:28<00:10, 17.86it/s, now=None]\u001b[A"
     ]
    },
    {
     "name": "stdout",
     "output_type": "stream",
     "text": [
      "nonetype found\n",
      "nonetype found\n"
     ]
    },
    {
     "name": "stderr",
     "output_type": "stream",
     "text": [
      "\n",
      "t:  73%|███████▎  | 496/681 [00:28<00:10, 17.90it/s, now=None]\u001b[A\n",
      "t:  73%|███████▎  | 498/681 [00:28<00:10, 17.95it/s, now=None]\u001b[A\n",
      "t:  73%|███████▎  | 500/681 [00:28<00:09, 18.15it/s, now=None]\u001b[A\n",
      "t:  74%|███████▎  | 502/681 [00:28<00:10, 16.58it/s, now=None]\u001b[A\n",
      "t:  74%|███████▍  | 504/681 [00:29<00:10, 17.23it/s, now=None]\u001b[A\n",
      "t:  74%|███████▍  | 506/681 [00:29<00:10, 16.96it/s, now=None]\u001b[A\n",
      "t:  75%|███████▍  | 508/681 [00:29<00:10, 16.98it/s, now=None]\u001b[A"
     ]
    },
    {
     "name": "stdout",
     "output_type": "stream",
     "text": [
      "nonetype found\n",
      "nonetype found\n"
     ]
    },
    {
     "name": "stderr",
     "output_type": "stream",
     "text": [
      "\n",
      "t:  75%|███████▍  | 510/681 [00:29<00:09, 17.19it/s, now=None]\u001b[A\n",
      "t:  75%|███████▌  | 512/681 [00:29<00:09, 17.54it/s, now=None]\u001b[A\n",
      "t:  75%|███████▌  | 514/681 [00:29<00:09, 17.93it/s, now=None]\u001b[A\n",
      "t:  76%|███████▌  | 516/681 [00:29<00:09, 18.15it/s, now=None]\u001b[A\n",
      "t:  76%|███████▌  | 518/681 [00:29<00:09, 18.09it/s, now=None]\u001b[A"
     ]
    },
    {
     "name": "stdout",
     "output_type": "stream",
     "text": [
      "nonetype found\n"
     ]
    },
    {
     "name": "stderr",
     "output_type": "stream",
     "text": [
      "\n",
      "t:  76%|███████▋  | 520/681 [00:29<00:09, 17.10it/s, now=None]\u001b[A\n",
      "t:  77%|███████▋  | 522/681 [00:30<00:09, 16.76it/s, now=None]\u001b[A\n",
      "t:  77%|███████▋  | 524/681 [00:30<00:09, 16.74it/s, now=None]\u001b[A\n",
      "t:  77%|███████▋  | 526/681 [00:30<00:09, 16.58it/s, now=None]\u001b[A\n",
      "t:  78%|███████▊  | 528/681 [00:30<00:09, 16.63it/s, now=None]\u001b[A\n",
      "t:  78%|███████▊  | 530/681 [00:30<00:09, 16.22it/s, now=None]\u001b[A\n",
      "t:  78%|███████▊  | 532/681 [00:30<00:09, 16.53it/s, now=None]\u001b[A"
     ]
    },
    {
     "name": "stdout",
     "output_type": "stream",
     "text": [
      "nonetype found\n",
      "nonetype found\n"
     ]
    },
    {
     "name": "stderr",
     "output_type": "stream",
     "text": [
      "\n",
      "t:  78%|███████▊  | 534/681 [00:30<00:09, 16.10it/s, now=None]\u001b[A\n",
      "t:  79%|███████▊  | 536/681 [00:30<00:08, 16.33it/s, now=None]\u001b[A\n",
      "t:  79%|███████▉  | 538/681 [00:31<00:08, 16.10it/s, now=None]\u001b[A\n",
      "t:  79%|███████▉  | 540/681 [00:31<00:08, 16.09it/s, now=None]\u001b[A\n",
      "t:  80%|███████▉  | 542/681 [00:31<00:08, 16.26it/s, now=None]\u001b[A\n",
      "t:  80%|███████▉  | 544/681 [00:31<00:08, 16.60it/s, now=None]\u001b[A"
     ]
    },
    {
     "name": "stdout",
     "output_type": "stream",
     "text": [
      "nonetype found\n",
      "nonetype found\n",
      "nonetype found\n"
     ]
    },
    {
     "name": "stderr",
     "output_type": "stream",
     "text": [
      "\n",
      "t:  80%|████████  | 546/681 [00:31<00:08, 16.47it/s, now=None]\u001b[A\n",
      "t:  80%|████████  | 548/681 [00:31<00:08, 16.13it/s, now=None]\u001b[A\n",
      "t:  81%|████████  | 550/681 [00:31<00:08, 16.25it/s, now=None]\u001b[A\n",
      "t:  81%|████████  | 552/681 [00:31<00:07, 16.28it/s, now=None]\u001b[A\n",
      "t:  81%|████████▏ | 554/681 [00:32<00:07, 16.60it/s, now=None]\u001b[A\n",
      "t:  82%|████████▏ | 556/681 [00:32<00:07, 16.68it/s, now=None]\u001b[A"
     ]
    },
    {
     "name": "stdout",
     "output_type": "stream",
     "text": [
      "nonetype found\n",
      "nonetype found\n"
     ]
    },
    {
     "name": "stderr",
     "output_type": "stream",
     "text": [
      "\n",
      "t:  82%|████████▏ | 558/681 [00:32<00:07, 16.52it/s, now=None]\u001b[A\n",
      "t:  82%|████████▏ | 560/681 [00:32<00:07, 16.62it/s, now=None]\u001b[A\n",
      "t:  83%|████████▎ | 562/681 [00:32<00:07, 15.81it/s, now=None]\u001b[A\n",
      "t:  83%|████████▎ | 564/681 [00:32<00:07, 16.10it/s, now=None]\u001b[A\n",
      "t:  83%|████████▎ | 566/681 [00:32<00:07, 16.37it/s, now=None]\u001b[A\n",
      "t:  83%|████████▎ | 568/681 [00:32<00:06, 16.59it/s, now=None]\u001b[A"
     ]
    },
    {
     "name": "stdout",
     "output_type": "stream",
     "text": [
      "nonetype found\n",
      "nonetype found\n"
     ]
    },
    {
     "name": "stderr",
     "output_type": "stream",
     "text": [
      "\n",
      "t:  84%|████████▎ | 570/681 [00:32<00:06, 15.94it/s, now=None]\u001b[A\n",
      "t:  84%|████████▍ | 572/681 [00:33<00:06, 15.63it/s, now=None]\u001b[A\n",
      "t:  84%|████████▍ | 574/681 [00:33<00:06, 16.07it/s, now=None]\u001b[A\n",
      "t:  85%|████████▍ | 576/681 [00:33<00:06, 16.73it/s, now=None]\u001b[A\n",
      "t:  85%|████████▍ | 578/681 [00:33<00:06, 16.59it/s, now=None]\u001b[A\n",
      "t:  85%|████████▌ | 580/681 [00:33<00:05, 17.38it/s, now=None]\u001b[A\n",
      "t:  85%|████████▌ | 582/681 [00:33<00:05, 17.09it/s, now=None]\u001b[A"
     ]
    },
    {
     "name": "stdout",
     "output_type": "stream",
     "text": [
      "nonetype found\n",
      "nonetype found\n"
     ]
    },
    {
     "name": "stderr",
     "output_type": "stream",
     "text": [
      "\n",
      "t:  86%|████████▌ | 584/681 [00:33<00:05, 17.48it/s, now=None]\u001b[A\n",
      "t:  86%|████████▌ | 586/681 [00:33<00:05, 17.46it/s, now=None]\u001b[A\n",
      "t:  86%|████████▋ | 588/681 [00:34<00:05, 17.69it/s, now=None]\u001b[A\n",
      "t:  87%|████████▋ | 590/681 [00:34<00:05, 17.97it/s, now=None]\u001b[A\n",
      "t:  87%|████████▋ | 592/681 [00:34<00:04, 18.32it/s, now=None]\u001b[A\n",
      "t:  87%|████████▋ | 594/681 [00:34<00:04, 18.43it/s, now=None]\u001b[A"
     ]
    },
    {
     "name": "stdout",
     "output_type": "stream",
     "text": [
      "nonetype found\n",
      "nonetype found\n",
      "nonetype found\n"
     ]
    },
    {
     "name": "stderr",
     "output_type": "stream",
     "text": [
      "\n",
      "t:  88%|████████▊ | 596/681 [00:34<00:04, 18.30it/s, now=None]\u001b[A\n",
      "t:  88%|████████▊ | 598/681 [00:34<00:04, 18.12it/s, now=None]\u001b[A\n",
      "t:  88%|████████▊ | 600/681 [00:34<00:04, 17.29it/s, now=None]\u001b[A\n",
      "t:  88%|████████▊ | 602/681 [00:34<00:04, 17.63it/s, now=None]\u001b[A\n",
      "t:  89%|████████▊ | 604/681 [00:34<00:04, 17.19it/s, now=None]\u001b[A\n",
      "t:  89%|████████▉ | 606/681 [00:35<00:04, 16.99it/s, now=None]\u001b[A"
     ]
    },
    {
     "name": "stdout",
     "output_type": "stream",
     "text": [
      "nonetype found\n",
      "nonetype found\n"
     ]
    },
    {
     "name": "stderr",
     "output_type": "stream",
     "text": [
      "\n",
      "t:  89%|████████▉ | 608/681 [00:35<00:04, 17.08it/s, now=None]\u001b[A\n",
      "t:  90%|████████▉ | 610/681 [00:35<00:04, 17.46it/s, now=None]\u001b[A\n",
      "t:  90%|████████▉ | 612/681 [00:35<00:04, 16.75it/s, now=None]\u001b[A\n",
      "t:  90%|█████████ | 614/681 [00:35<00:03, 16.92it/s, now=None]\u001b[A\n",
      "t:  90%|█████████ | 616/681 [00:35<00:03, 17.24it/s, now=None]\u001b[A\n",
      "t:  91%|█████████ | 618/681 [00:35<00:03, 17.79it/s, now=None]\u001b[A"
     ]
    },
    {
     "name": "stdout",
     "output_type": "stream",
     "text": [
      "nonetype found\n",
      "nonetype found\n"
     ]
    },
    {
     "name": "stderr",
     "output_type": "stream",
     "text": [
      "\n",
      "t:  91%|█████████ | 620/681 [00:35<00:03, 17.90it/s, now=None]\u001b[A\n",
      "t:  91%|█████████▏| 622/681 [00:35<00:03, 17.90it/s, now=None]\u001b[A\n",
      "t:  92%|█████████▏| 624/681 [00:36<00:03, 17.30it/s, now=None]\u001b[A\n",
      "t:  92%|█████████▏| 626/681 [00:36<00:03, 17.56it/s, now=None]\u001b[A\n",
      "t:  92%|█████████▏| 628/681 [00:36<00:02, 17.93it/s, now=None]\u001b[A\n",
      "t:  93%|█████████▎| 630/681 [00:36<00:02, 17.50it/s, now=None]\u001b[A"
     ]
    },
    {
     "name": "stdout",
     "output_type": "stream",
     "text": [
      "nonetype found\n",
      "nonetype found\n"
     ]
    },
    {
     "name": "stderr",
     "output_type": "stream",
     "text": [
      "\n",
      "t:  93%|█████████▎| 632/681 [00:36<00:02, 17.64it/s, now=None]\u001b[A\n",
      "t:  93%|█████████▎| 634/681 [00:36<00:02, 17.21it/s, now=None]\u001b[A\n",
      "t:  93%|█████████▎| 636/681 [00:36<00:02, 17.55it/s, now=None]\u001b[A\n",
      "t:  94%|█████████▎| 638/681 [00:36<00:02, 16.81it/s, now=None]\u001b[A\n",
      "t:  94%|█████████▍| 640/681 [00:37<00:02, 17.02it/s, now=None]\u001b[A\n",
      "t:  94%|█████████▍| 642/681 [00:37<00:02, 17.31it/s, now=None]\u001b[A\n",
      "t:  95%|█████████▍| 644/681 [00:37<00:02, 17.68it/s, now=None]\u001b[A"
     ]
    },
    {
     "name": "stdout",
     "output_type": "stream",
     "text": [
      "nonetype found\n"
     ]
    },
    {
     "name": "stderr",
     "output_type": "stream",
     "text": [
      "\n",
      "t:  95%|█████████▍| 646/681 [00:37<00:02, 17.34it/s, now=None]\u001b[A\n",
      "t:  95%|█████████▌| 648/681 [00:37<00:01, 17.58it/s, now=None]\u001b[A\n",
      "t:  95%|█████████▌| 650/681 [00:37<00:01, 17.53it/s, now=None]\u001b[A\n",
      "t:  96%|█████████▌| 652/681 [00:37<00:01, 17.83it/s, now=None]\u001b[A\n",
      "t:  96%|█████████▌| 654/681 [00:37<00:01, 18.33it/s, now=None]\u001b[A"
     ]
    },
    {
     "name": "stdout",
     "output_type": "stream",
     "text": [
      "nonetype found\n",
      "nonetype found\n",
      "nonetype found\n",
      "nonetype found\n"
     ]
    },
    {
     "name": "stderr",
     "output_type": "stream",
     "text": [
      "\n",
      "t:  96%|█████████▋| 657/681 [00:37<00:01, 18.79it/s, now=None]\u001b[A\n",
      "t:  97%|█████████▋| 659/681 [00:38<00:01, 18.29it/s, now=None]\u001b[A\n",
      "t:  97%|█████████▋| 661/681 [00:38<00:01, 18.20it/s, now=None]\u001b[A\n",
      "t:  97%|█████████▋| 663/681 [00:38<00:00, 18.22it/s, now=None]\u001b[A\n",
      "t:  98%|█████████▊| 665/681 [00:38<00:00, 18.40it/s, now=None]\u001b[A\n",
      "t:  98%|█████████▊| 667/681 [00:38<00:00, 18.60it/s, now=None]\u001b[A"
     ]
    },
    {
     "name": "stdout",
     "output_type": "stream",
     "text": [
      "nonetype found\n",
      "nonetype found\n",
      "nonetype found\n"
     ]
    },
    {
     "name": "stderr",
     "output_type": "stream",
     "text": [
      "\n",
      "t:  98%|█████████▊| 669/681 [00:38<00:00, 17.94it/s, now=None]\u001b[A\n",
      "t:  99%|█████████▊| 671/681 [00:38<00:00, 17.94it/s, now=None]\u001b[A\n",
      "t:  99%|█████████▉| 673/681 [00:38<00:00, 17.95it/s, now=None]\u001b[A\n",
      "t:  99%|█████████▉| 675/681 [00:38<00:00, 17.83it/s, now=None]\u001b[A\n",
      "t:  99%|█████████▉| 677/681 [00:39<00:00, 18.15it/s, now=None]\u001b[A\n",
      "t: 100%|█████████▉| 679/681 [00:39<00:00, 18.56it/s, now=None]\u001b[A\n",
      "t: 100%|██████████| 681/681 [00:39<00:00, 18.58it/s, now=None]\u001b[A"
     ]
    },
    {
     "name": "stdout",
     "output_type": "stream",
     "text": [
      "nonetype found\n",
      "nonetype found\n"
     ]
    },
    {
     "name": "stderr",
     "output_type": "stream",
     "text": [
      "\n",
      "                                                              \u001b[A"
     ]
    },
    {
     "name": "stdout",
     "output_type": "stream",
     "text": [
      "Moviepy - Done !\n",
      "Moviepy - video ready test_videos_output/solidYellowLeft.mp4\n",
      "CPU times: user 38.6 s, sys: 1.56 s, total: 40.2 s\n",
      "Wall time: 39.8 s\n"
     ]
    },
    {
     "data": {
      "image/png": "[encoded data removed]",
      "text/plain": [
       "<matplotlib.figure.Figure at 0x7f9c74191310>"
      ]
     },
     "metadata": {},
     "output_type": "display_data"
    }
   ],
   "source": [
    "yellow_output = 'test_videos_output/solidYellowLeft.mp4'\n",
    "## To speed up the testing process you may want to try your pipeline on a shorter subclip of the video\n",
    "## To do so add .subclip(start_second,end_second) to the end of the line below\n",
    "## Where start_second and end_second are integer values representing the start and end of the subclip\n",
    "## You may also uncomment the following line for a subclip of the first 5 seconds\n",
    "##clip2 = VideoFileClip('test_videos/solidYellowLeft.mp4').subclip(0,5)\n",
    "clip2 = VideoFileClip('test_videos/solidYellowLeft.mp4')\n",
    "yellow_clip = clip2.fl_image(process_image)\n",
    "%time yellow_clip.write_videofile(yellow_output, audio=False)"
   ]
  },
  {
   "cell_type": "code",
   "execution_count": 15,
   "metadata": {},
   "outputs": [
    {
     "data": {
      "text/html": [
       "\n",
       "<video width=\"960\" height=\"540\" controls>\n",
       "  <source src=\"test_videos_output/solidYellowLeft.mp4\">\n",
       "</video>\n"
      ],
      "text/plain": [
       "<IPython.core.display.HTML object>"
      ]
     },
     "execution_count": 15,
     "metadata": {},
     "output_type": "execute_result"
    }
   ],
   "source": [
    "HTML(\"\"\"\n",
    "<video width=\"960\" height=\"540\" controls>\n",
    "  <source src=\"{0}\">\n",
    "</video>\n",
    "\"\"\".format(yellow_output))"
   ]
  },
  {
   "cell_type": "markdown",
   "metadata": {},
   "source": [
    "## Writeup and Submission\n",
    "\n",
    "If you're satisfied with your video outputs, it's time to make the report writeup in a pdf or markdown file. Once you have this Ipython notebook ready along with the writeup, it's time to submit for review! Here is a [link](https://github.com/udacity/CarND-LaneLines-P1/blob/master/writeup_template.md) to the writeup template file.\n"
   ]
  },
  {
   "cell_type": "markdown",
   "metadata": {
    "collapsed": true
   },
   "source": [
    "## Optional Challenge\n",
    "\n",
    "Try your lane finding pipeline on the video below.  Does it still work?  Can you figure out a way to make it more robust?  If you're up for the challenge, modify your pipeline so it works with this video and submit it along with the rest of your project!"
   ]
  },
  {
   "cell_type": "code",
   "execution_count": null,
   "metadata": {
    "collapsed": true
   },
   "outputs": [],
   "source": [
    "challenge_output = 'test_videos_output/challenge.mp4'\n",
    "## To speed up the testing process you may want to try your pipeline on a shorter subclip of the video\n",
    "## To do so add .subclip(start_second,end_second) to the end of the line below\n",
    "## Where start_second and end_second are integer values representing the start and end of the subclip\n",
    "## You may also uncomment the following line for a subclip of the first 5 seconds\n",
    "##clip3 = VideoFileClip('test_videos/challenge.mp4').subclip(0,5)\n",
    "clip3 = VideoFileClip('test_videos/challenge.mp4')\n",
    "challenge_clip = clip3.fl_image(process_image)\n",
    "%time challenge_clip.write_videofile(challenge_output, audio=False)"
   ]
  },
  {
   "cell_type": "code",
   "execution_count": null,
   "metadata": {
    "collapsed": true
   },
   "outputs": [],
   "source": [
    "HTML(\"\"\"\n",
    "<video width=\"960\" height=\"540\" controls>\n",
    "  <source src=\"{0}\">\n",
    "</video>\n",
    "\"\"\".format(challenge_output))"
   ]
  }
 ],
 "metadata": {
  "anaconda-cloud": {},
  "kernelspec": {
   "display_name": "Python 2",
   "language": "python",
   "name": "python2"
  },
  "language_info": {
   "codemirror_mode": {
    "name": "ipython",
    "version": 2
   },
   "file_extension": ".py",
   "mimetype": "text/x-python",
   "name": "python",
   "nbconvert_exporter": "python",
   "pygments_lexer": "ipython2",
   "version": "2.7.12"
  }
 },
 "nbformat": 4,
 "nbformat_minor": 1
}
